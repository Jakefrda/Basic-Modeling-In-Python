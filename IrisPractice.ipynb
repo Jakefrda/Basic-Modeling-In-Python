{
 "cells": [
  {
   "cell_type": "code",
   "execution_count": null,
   "metadata": {},
   "outputs": [],
   "source": [
    "### Replicated by Jake Fredrich\n",
    "### Iris Dataset taken from https://www.analyticsvidhya.com/blog/2018/05/24-ultimate-data-science-projects-to-boost-your-knowledge-and-skills/\n",
    "### Portions of code and concepts taken from www.kaggle.com"
   ]
  },
  {
   "cell_type": "code",
   "execution_count": 1,
   "metadata": {},
   "outputs": [],
   "source": [
    "# Install a pip package in the current Jupyter kernel if it doesn't exist\n",
    "# import sys\n",
    "# !{sys.executable} -m pip install ipywidgets\n",
    "\n"
   ]
  },
  {
   "cell_type": "code",
   "execution_count": 9,
   "metadata": {},
   "outputs": [],
   "source": [
    "### Imports\n",
    "import warnings\n",
    "import time\n",
    "import numpy as np # Used for dataframe manipulation & linear algebra\n",
    "import pandas as pd # Used for creating and modifying dataframes\n",
    "import matplotlib.pyplot as plt\n",
    "import seaborn as sns\n",
    "\n",
    "from ipywidgets import interact, interactive, fixed, interact_manual\n",
    "import ipywidgets as widgets\n"
   ]
  },
  {
   "cell_type": "markdown",
   "metadata": {},
   "source": [
    "# Set Up Data\n",
    "## Import the data file, load into a dataframe, and divide based on identifier to be used"
   ]
  },
  {
   "cell_type": "code",
   "execution_count": 12,
   "metadata": {},
   "outputs": [
    {
     "name": "stdout",
     "output_type": "stream",
     "text": [
      "<class 'pandas.core.frame.DataFrame'>\n",
      "RangeIndex: 149 entries, 0 to 148\n",
      "Data columns (total 5 columns):\n",
      "SEPAL_L    149 non-null float64\n",
      "SEPAL_W    149 non-null float64\n",
      "PETAL_L    149 non-null float64\n",
      "PETAL_W    149 non-null float64\n",
      "TYPE       149 non-null object\n",
      "dtypes: float64(4), object(1)\n",
      "memory usage: 5.9+ KB\n"
     ]
    },
    {
     "data": {
      "text/html": [
       "<div>\n",
       "<style scoped>\n",
       "    .dataframe tbody tr th:only-of-type {\n",
       "        vertical-align: middle;\n",
       "    }\n",
       "\n",
       "    .dataframe tbody tr th {\n",
       "        vertical-align: top;\n",
       "    }\n",
       "\n",
       "    .dataframe thead th {\n",
       "        text-align: right;\n",
       "    }\n",
       "</style>\n",
       "<table border=\"1\" class=\"dataframe\">\n",
       "  <thead>\n",
       "    <tr style=\"text-align: right;\">\n",
       "      <th></th>\n",
       "      <th>SEPAL_L</th>\n",
       "      <th>SEPAL_W</th>\n",
       "      <th>PETAL_L</th>\n",
       "      <th>PETAL_W</th>\n",
       "      <th>TYPE</th>\n",
       "    </tr>\n",
       "  </thead>\n",
       "  <tbody>\n",
       "    <tr>\n",
       "      <th>0</th>\n",
       "      <td>4.9</td>\n",
       "      <td>3.0</td>\n",
       "      <td>1.4</td>\n",
       "      <td>0.2</td>\n",
       "      <td>Iris-setosa</td>\n",
       "    </tr>\n",
       "    <tr>\n",
       "      <th>1</th>\n",
       "      <td>4.7</td>\n",
       "      <td>3.2</td>\n",
       "      <td>1.3</td>\n",
       "      <td>0.2</td>\n",
       "      <td>Iris-setosa</td>\n",
       "    </tr>\n",
       "    <tr>\n",
       "      <th>2</th>\n",
       "      <td>4.6</td>\n",
       "      <td>3.1</td>\n",
       "      <td>1.5</td>\n",
       "      <td>0.2</td>\n",
       "      <td>Iris-setosa</td>\n",
       "    </tr>\n",
       "    <tr>\n",
       "      <th>3</th>\n",
       "      <td>5.0</td>\n",
       "      <td>3.6</td>\n",
       "      <td>1.4</td>\n",
       "      <td>0.2</td>\n",
       "      <td>Iris-setosa</td>\n",
       "    </tr>\n",
       "    <tr>\n",
       "      <th>4</th>\n",
       "      <td>5.4</td>\n",
       "      <td>3.9</td>\n",
       "      <td>1.7</td>\n",
       "      <td>0.4</td>\n",
       "      <td>Iris-setosa</td>\n",
       "    </tr>\n",
       "  </tbody>\n",
       "</table>\n",
       "</div>"
      ],
      "text/plain": [
       "   SEPAL_L  SEPAL_W  PETAL_L  PETAL_W         TYPE\n",
       "0      4.9      3.0      1.4      0.2  Iris-setosa\n",
       "1      4.7      3.2      1.3      0.2  Iris-setosa\n",
       "2      4.6      3.1      1.5      0.2  Iris-setosa\n",
       "3      5.0      3.6      1.4      0.2  Iris-setosa\n",
       "4      5.4      3.9      1.7      0.4  Iris-setosa"
      ]
     },
     "execution_count": 12,
     "metadata": {},
     "output_type": "execute_result"
    }
   ],
   "source": [
    "ELEMENT_NAMES = ['SEPAL_L','SEPAL_W','PETAL_L','PETAL_W'] #Elements to be used\n",
    "HEADER_NAMES = ELEMENT_NAMES \n",
    "HEADER_NAMES.append('TYPE') #Add Identifier to Header Names\n",
    "\n",
    "File_Name = \"iris.data\"\n",
    "df = pd.read_csv(File_Name) # Read File\n",
    "\n",
    "df.columns = HEADER_NAMES # Rename Column Headers\n",
    "IRIS_NAMES = df.TYPE.unique() # List of all Iris Classes\n",
    "df.info()# Check to see if data is consistent and has null values\n",
    "# print(df.head(2))\n",
    "\n",
    "iris_df = df\n",
    "    \n",
    "#print(iris_dfs[2].head()) # Confirm split\n",
    "iris_df.head()\n",
    "\n",
    "#print(df.iloc[1,0])"
   ]
  },
  {
   "cell_type": "markdown",
   "metadata": {},
   "source": [
    "\n",
    "\n"
   ]
  },
  {
   "cell_type": "code",
   "execution_count": 13,
   "metadata": {},
   "outputs": [
    {
     "data": {
      "image/png": "[encoded data removed]",
      "text/plain": [
       "<Figure size 720x432 with 1 Axes>"
      ]
     },
     "metadata": {
      "needs_background": "light"
     },
     "output_type": "display_data"
    }
   ],
   "source": [
    "''' Create Chart Showing Relationship between Sepal Width and Length'''\n",
    "fig = iris_df[iris_df.TYPE=='Iris-setosa'].plot(kind='scatter', \\\n",
    "        x='SEPAL_L',y='SEPAL_W', color='orange', label='Setosa')\n",
    "iris_df[iris_df.TYPE=='Iris-versicolor'].plot(kind='scatter',\\\n",
    "        x='SEPAL_L',y='SEPAL_W', color='blue', label='Versicolor', ax =fig)\n",
    "iris_df[iris_df.TYPE=='Iris-virginica'].plot(kind='scatter',\\\n",
    "        x='SEPAL_L',y='SEPAL_W', color='green', label='Virginica', ax =fig)\n",
    "fig.set_xlabel('SEPAL_L')\n",
    "fig.set_ylabel('SEPAL_W')\n",
    "fig.set_title('Sepal Length VS Width')\n",
    "fig=plt.gcf()\n",
    "fig.set_size_inches(10,6)\n",
    "plt.show()\n",
    "\n"
   ]
  },
  {
   "cell_type": "code",
   "execution_count": 14,
   "metadata": {},
   "outputs": [
    {
     "data": {
      "image/png": "[encoded data removed]",
      "text/plain": [
       "<Figure size 720x432 with 1 Axes>"
      ]
     },
     "metadata": {
      "needs_background": "light"
     },
     "output_type": "display_data"
    }
   ],
   "source": [
    "''' Create Chart Showing Relationship between Petal Width and Length'''\n",
    "\n",
    "fig = iris_df[iris_df.TYPE=='Iris-setosa'].plot(kind='scatter', \\\n",
    "        x='PETAL_L',y='PETAL_W', color='orange', label='Setosa')\n",
    "iris_df[iris_df.TYPE=='Iris-versicolor'].plot(kind='scatter',\\\n",
    "        x='PETAL_L',y='PETAL_W', color='blue', label='Versicolor', ax =fig)\n",
    "iris_df[iris_df.TYPE=='Iris-virginica'].plot(kind='scatter',\\\n",
    "        x='PETAL_L',y='PETAL_W', color='green', label='Virginica', ax =fig)\n",
    "fig.set_xlabel('PETAL_L')\n",
    "fig.set_ylabel('PETAL_W')\n",
    "fig.set_title('Petal Length VS Width')\n",
    "fig=plt.gcf()\n",
    "fig.set_size_inches(10,6)\n",
    "plt.show()\n"
   ]
  },
  {
   "cell_type": "code",
   "execution_count": 100,
   "metadata": {},
   "outputs": [
    {
     "data": {
      "image/png": "[encoded data removed]",
      "text/plain": [
       "<Figure size 864x432 with 4 Axes>"
      ]
     },
     "metadata": {
      "needs_background": "light"
     },
     "output_type": "display_data"
    }
   ],
   "source": [
    "''' Create 4 Histograms showing the frequency distributions of PETAL and SEPAL Length and Width'''\n",
    "\n",
    "iris_df.hist(edgecolor='black',linewidth=1.2)\n",
    "fig=plt.gcf()\n",
    "fig.set_size_inches(12,6)\n",
    "plt.show()"
   ]
  },
  {
   "cell_type": "code",
   "execution_count": 16,
   "metadata": {},
   "outputs": [
    {
     "data": {
      "text/plain": [
       "<matplotlib.axes._subplots.AxesSubplot at 0x21de9309f60>"
      ]
     },
     "execution_count": 16,
     "metadata": {},
     "output_type": "execute_result"
    },
    {
     "data": {
      "image/png": "[encoded data removed]",
      "text/plain": [
       "<Figure size 1080x720 with 4 Axes>"
      ]
     },
     "metadata": {
      "needs_background": "light"
     },
     "output_type": "display_data"
    }
   ],
   "source": [
    "''' Create Violin Plots to show probability density for each Characteristic and Type '''\n",
    "\n",
    "plt.figure(figsize=(15,10))\n",
    "plt.subplot(2,2,1)\n",
    "sns.violinplot(x='TYPE',y='PETAL_L', data=iris_df)\n",
    "plt.subplot(2,2,2)\n",
    "sns.violinplot(x='TYPE', y='PETAL_W', data=iris_df)\n",
    "plt.subplot(2,2,3)\n",
    "sns.violinplot(x='TYPE', y='SEPAL_L', data=iris_df)\n",
    "plt.subplot(2,2,4)\n",
    "sns.violinplot(x='TYPE', y='SEPAL_W', data=iris_df)"
   ]
  },
  {
   "cell_type": "code",
   "execution_count": 22,
   "metadata": {},
   "outputs": [],
   "source": [
    "''' Import all the necessary packages to use the various classification algorithms '''\n",
    "from sklearn.linear_model import LogisticRegression # for Logistic Regression algorithm\n",
    "from sklearn.model_selection import train_test_split # to split the dataset for training and testing\n",
    "from sklearn.neighbors import KNeighborsClassifier # for K nearest neighbors\n",
    "from sklearn import svm #for support Vector Machine (SVM) Algorithm\n",
    "from sklearn import metrics # for checking the model accuracy\n",
    "from sklearn.tree import DecisionTreeClassifier #for using Decision Tree Algorithm\n"
   ]
  },
  {
   "cell_type": "code",
   "execution_count": 23,
   "metadata": {},
   "outputs": [
    {
     "data": {
      "text/plain": [
       "(149, 5)"
      ]
     },
     "execution_count": 23,
     "metadata": {},
     "output_type": "execute_result"
    }
   ],
   "source": [
    "iris_main.shape # get the shape of the dataset"
   ]
  },
  {
   "cell_type": "code",
   "execution_count": 24,
   "metadata": {},
   "outputs": [
    {
     "data": {
      "image/png": "[encoded data removed]",
      "text/plain": [
       "<Figure size 504x288 with 2 Axes>"
      ]
     },
     "metadata": {
      "needs_background": "light"
     },
     "output_type": "display_data"
    }
   ],
   "source": [
    "''' Create basic Heatmap to show correlation between differing qualities '''\n",
    "\n",
    "plt.figure(figsize=(7,4))\n",
    "sns.heatmap(iris_main.corr(),annot=True,cmap='cubehelix_r') #draws heatmap with input as correlation matrix calculated by (iris_main.corr())\n",
    "plt.show()"
   ]
  },
  {
   "cell_type": "code",
   "execution_count": 25,
   "metadata": {},
   "outputs": [
    {
     "name": "stdout",
     "output_type": "stream",
     "text": [
      "(104, 5)\n",
      "(45, 5)\n"
     ]
    }
   ],
   "source": [
    "'''Splitting the Data into Training and Testing Data'''\n",
    "\n",
    "train, test = train_test_split(iris_df, test_size = 0.3)# Main data is split into train and test\n",
    "print(train.shape)\n",
    "print(test.shape)"
   ]
  },
  {
   "cell_type": "code",
   "execution_count": 26,
   "metadata": {},
   "outputs": [],
   "source": [
    "''' Separating the Target Variable for train and test data '''\n",
    "\n",
    "train_X = train[['SEPAL_L', 'SEPAL_W', 'PETAL_L', 'PETAL_W']] # Taking the training data features\n",
    "train_y = train.TYPE # output of our training data\n",
    "test_X = test[['SEPAL_L', 'SEPAL_W', 'PETAL_L', 'PETAL_W']]  # Taking test data features\n",
    "test_y = test.TYPE # output value of test data\n"
   ]
  },
  {
   "cell_type": "code",
   "execution_count": 27,
   "metadata": {},
   "outputs": [
    {
     "data": {
      "text/html": [
       "<div>\n",
       "<style scoped>\n",
       "    .dataframe tbody tr th:only-of-type {\n",
       "        vertical-align: middle;\n",
       "    }\n",
       "\n",
       "    .dataframe tbody tr th {\n",
       "        vertical-align: top;\n",
       "    }\n",
       "\n",
       "    .dataframe thead th {\n",
       "        text-align: right;\n",
       "    }\n",
       "</style>\n",
       "<table border=\"1\" class=\"dataframe\">\n",
       "  <thead>\n",
       "    <tr style=\"text-align: right;\">\n",
       "      <th></th>\n",
       "      <th>SEPAL_L</th>\n",
       "      <th>SEPAL_W</th>\n",
       "      <th>PETAL_L</th>\n",
       "      <th>PETAL_W</th>\n",
       "    </tr>\n",
       "  </thead>\n",
       "  <tbody>\n",
       "    <tr>\n",
       "      <th>65</th>\n",
       "      <td>5.6</td>\n",
       "      <td>3.0</td>\n",
       "      <td>4.5</td>\n",
       "      <td>1.5</td>\n",
       "    </tr>\n",
       "    <tr>\n",
       "      <th>135</th>\n",
       "      <td>6.3</td>\n",
       "      <td>3.4</td>\n",
       "      <td>5.6</td>\n",
       "      <td>2.4</td>\n",
       "    </tr>\n",
       "  </tbody>\n",
       "</table>\n",
       "</div>"
      ],
      "text/plain": [
       "     SEPAL_L  SEPAL_W  PETAL_L  PETAL_W\n",
       "65       5.6      3.0      4.5      1.5\n",
       "135      6.3      3.4      5.6      2.4"
      ]
     },
     "execution_count": 27,
     "metadata": {},
     "output_type": "execute_result"
    }
   ],
   "source": [
    "train_X.head(2)"
   ]
  },
  {
   "cell_type": "code",
   "execution_count": 108,
   "metadata": {},
   "outputs": [
    {
     "data": {
      "text/html": [
       "<div>\n",
       "<style scoped>\n",
       "    .dataframe tbody tr th:only-of-type {\n",
       "        vertical-align: middle;\n",
       "    }\n",
       "\n",
       "    .dataframe tbody tr th {\n",
       "        vertical-align: top;\n",
       "    }\n",
       "\n",
       "    .dataframe thead th {\n",
       "        text-align: right;\n",
       "    }\n",
       "</style>\n",
       "<table border=\"1\" class=\"dataframe\">\n",
       "  <thead>\n",
       "    <tr style=\"text-align: right;\">\n",
       "      <th></th>\n",
       "      <th>SEPAL_L</th>\n",
       "      <th>SEPAL_W</th>\n",
       "      <th>PETAL_L</th>\n",
       "      <th>PETAL_W</th>\n",
       "    </tr>\n",
       "  </thead>\n",
       "  <tbody>\n",
       "    <tr>\n",
       "      <th>19</th>\n",
       "      <td>5.4</td>\n",
       "      <td>3.4</td>\n",
       "      <td>1.7</td>\n",
       "      <td>0.2</td>\n",
       "    </tr>\n",
       "    <tr>\n",
       "      <th>60</th>\n",
       "      <td>5.9</td>\n",
       "      <td>3.0</td>\n",
       "      <td>4.2</td>\n",
       "      <td>1.5</td>\n",
       "    </tr>\n",
       "  </tbody>\n",
       "</table>\n",
       "</div>"
      ],
      "text/plain": [
       "    SEPAL_L  SEPAL_W  PETAL_L  PETAL_W\n",
       "19      5.4      3.4      1.7      0.2\n",
       "60      5.9      3.0      4.2      1.5"
      ]
     },
     "execution_count": 108,
     "metadata": {},
     "output_type": "execute_result"
    }
   ],
   "source": [
    "test_X.head(2)"
   ]
  },
  {
   "cell_type": "code",
   "execution_count": 109,
   "metadata": {},
   "outputs": [
    {
     "data": {
      "text/plain": [
       "103     Iris-virginica\n",
       "72     Iris-versicolor\n",
       "Name: CLASS, dtype: object"
      ]
     },
     "execution_count": 109,
     "metadata": {},
     "output_type": "execute_result"
    }
   ],
   "source": [
    "train_Y.head(2) ## Output of the training data"
   ]
  },
  {
   "cell_type": "code",
   "execution_count": 110,
   "metadata": {},
   "outputs": [
    {
     "data": {
      "text/plain": [
       "15        Iris-setosa\n",
       "83    Iris-versicolor\n",
       "Name: CLASS, dtype: object"
      ]
     },
     "execution_count": 110,
     "metadata": {},
     "output_type": "execute_result"
    }
   ],
   "source": [
    "test_Y.head(2)"
   ]
  },
  {
   "cell_type": "raw",
   "metadata": {},
   "source": []
  },
  {
   "cell_type": "code",
   "execution_count": 29,
   "metadata": {},
   "outputs": [
    {
     "name": "stdout",
     "output_type": "stream",
     "text": [
      "The accuracy of the SVM is: 1.0\n"
     ]
    },
    {
     "name": "stderr",
     "output_type": "stream",
     "text": [
      "C:\\Users\\JAKEFREDRICH\\Anaconda3\\envs\\BaseClone\\lib\\site-packages\\sklearn\\svm\\base.py:196: FutureWarning: The default value of gamma will change from 'auto' to 'scale' in version 0.22 to account better for unscaled features. Set gamma explicitly to 'auto' or 'scale' to avoid this warning.\n",
      "  \"avoid this warning.\", FutureWarning)\n"
     ]
    }
   ],
   "source": [
    "'''SUPPORT VECTOR MACHINE(SVM)'''\n",
    "\n",
    "model = svm.SVC() #select SVM algorithm\n",
    "model.fit(train_X,train_y) # Train the algorithm with the training data and the training output\n",
    "prediction=model.predict(test_X) #Pass the testing data to the trained algorithm\n",
    "print('The accuracy of the SVM is:',metrics.accuracy_score(prediction,test_y))#now we check the accuracy of the algorithm. \n",
    "#we pass the predicted output by the model and the actual output"
   ]
  },
  {
   "cell_type": "code",
   "execution_count": 30,
   "metadata": {},
   "outputs": [
    {
     "name": "stdout",
     "output_type": "stream",
     "text": [
      "The accuracy of the Logistic Regression is 1.0\n"
     ]
    },
    {
     "name": "stderr",
     "output_type": "stream",
     "text": [
      "C:\\Users\\JAKEFREDRICH\\Anaconda3\\envs\\BaseClone\\lib\\site-packages\\sklearn\\linear_model\\logistic.py:433: FutureWarning: Default solver will be changed to 'lbfgs' in 0.22. Specify a solver to silence this warning.\n",
      "  FutureWarning)\n",
      "C:\\Users\\JAKEFREDRICH\\Anaconda3\\envs\\BaseClone\\lib\\site-packages\\sklearn\\linear_model\\logistic.py:460: FutureWarning: Default multi_class will be changed to 'auto' in 0.22. Specify the multi_class option to silence this warning.\n",
      "  \"this warning.\", FutureWarning)\n"
     ]
    }
   ],
   "source": [
    "'''LOGISTIC REGRESSION'''\n",
    "model = LogisticRegression()\n",
    "model.fit(train_X,train_y)\n",
    "prediction=model.predict(test_X)\n",
    "print('The accuracy of the Logistic Regression is',metrics.accuracy_score(prediction,test_y))"
   ]
  },
  {
   "cell_type": "code",
   "execution_count": 31,
   "metadata": {},
   "outputs": [
    {
     "name": "stdout",
     "output_type": "stream",
     "text": [
      "The accuracy of the Decision Tree is 0.9333333333333333\n"
     ]
    }
   ],
   "source": [
    "'''Decision Tree'''\n",
    "model=DecisionTreeClassifier()\n",
    "model.fit(train_X,train_y)\n",
    "prediction=model.predict(test_X)\n",
    "print('The accuracy of the Decision Tree is',metrics.accuracy_score(prediction,test_y))"
   ]
  },
  {
   "cell_type": "code",
   "execution_count": 32,
   "metadata": {},
   "outputs": [
    {
     "name": "stdout",
     "output_type": "stream",
     "text": [
      "The accuracy of the KNN is 0.9777777777777777\n"
     ]
    }
   ],
   "source": [
    "''' K Nearest Neighbor '''\n",
    "\n",
    "model=KNeighborsClassifier(n_neighbors=3) #this examines 3 neighbours for putting the new data into a class\n",
    "model.fit(train_X,train_y)\n",
    "prediction=model.predict(test_X)\n",
    "print('The accuracy of the KNN is',metrics.accuracy_score(prediction,test_y))"
   ]
  },
  {
   "cell_type": "code",
   "execution_count": 33,
   "metadata": {},
   "outputs": [
    {
     "data": {
      "text/plain": [
       "([<matplotlib.axis.XTick at 0x21de9f5a0f0>,\n",
       "  <matplotlib.axis.XTick at 0x21de9f54a20>,\n",
       "  <matplotlib.axis.XTick at 0x21de9f54748>,\n",
       "  <matplotlib.axis.XTick at 0x21de9f7b198>,\n",
       "  <matplotlib.axis.XTick at 0x21de9f7b5f8>,\n",
       "  <matplotlib.axis.XTick at 0x21de9f7bac8>,\n",
       "  <matplotlib.axis.XTick at 0x21de9f7be80>,\n",
       "  <matplotlib.axis.XTick at 0x21de9f7ba90>,\n",
       "  <matplotlib.axis.XTick at 0x21de9f82438>,\n",
       "  <matplotlib.axis.XTick at 0x21de9f82940>],\n",
       " <a list of 10 Text xticklabel objects>)"
      ]
     },
     "execution_count": 33,
     "metadata": {},
     "output_type": "execute_result"
    },
    {
     "data": {
      "image/png": "[encoded data removed]",
      "text/plain": [
       "<Figure size 432x288 with 1 Axes>"
      ]
     },
     "metadata": {
      "needs_background": "light"
     },
     "output_type": "display_data"
    }
   ],
   "source": [
    "''' Create chart showing the accuracy of K Nearest Neighbor at different classified n_neighbors'''\n",
    "\n",
    "a_index=list(range(1,11))\n",
    "a=pd.Series()\n",
    "x=[1,2,3,4,5,6,7,8,9,10]\n",
    "for i in list(range(1,11)):\n",
    "    model=KNeighborsClassifier(n_neighbors=i) \n",
    "    model.fit(train_X,train_y)\n",
    "    prediction=model.predict(test_X)\n",
    "    a=a.append(pd.Series(metrics.accuracy_score(prediction,test_y)))\n",
    "plt.plot(a_index, a)\n",
    "plt.xticks(x)"
   ]
  },
  {
   "cell_type": "code",
   "execution_count": 34,
   "metadata": {},
   "outputs": [
    {
     "data": {
      "text/html": [
       "<div>\n",
       "<style scoped>\n",
       "    .dataframe tbody tr th:only-of-type {\n",
       "        vertical-align: middle;\n",
       "    }\n",
       "\n",
       "    .dataframe tbody tr th {\n",
       "        vertical-align: top;\n",
       "    }\n",
       "\n",
       "    .dataframe thead th {\n",
       "        text-align: right;\n",
       "    }\n",
       "</style>\n",
       "<table border=\"1\" class=\"dataframe\">\n",
       "  <thead>\n",
       "    <tr style=\"text-align: right;\">\n",
       "      <th></th>\n",
       "      <th>PETAL_L</th>\n",
       "      <th>PETAL_W</th>\n",
       "      <th>CLASS</th>\n",
       "    </tr>\n",
       "  </thead>\n",
       "  <tbody>\n",
       "    <tr>\n",
       "      <th>0</th>\n",
       "      <td>1.4</td>\n",
       "      <td>0.2</td>\n",
       "      <td>Iris-setosa</td>\n",
       "    </tr>\n",
       "    <tr>\n",
       "      <th>1</th>\n",
       "      <td>1.3</td>\n",
       "      <td>0.2</td>\n",
       "      <td>Iris-setosa</td>\n",
       "    </tr>\n",
       "    <tr>\n",
       "      <th>2</th>\n",
       "      <td>1.5</td>\n",
       "      <td>0.2</td>\n",
       "      <td>Iris-setosa</td>\n",
       "    </tr>\n",
       "    <tr>\n",
       "      <th>3</th>\n",
       "      <td>1.4</td>\n",
       "      <td>0.2</td>\n",
       "      <td>Iris-setosa</td>\n",
       "    </tr>\n",
       "    <tr>\n",
       "      <th>4</th>\n",
       "      <td>1.7</td>\n",
       "      <td>0.4</td>\n",
       "      <td>Iris-setosa</td>\n",
       "    </tr>\n",
       "  </tbody>\n",
       "</table>\n",
       "</div>"
      ],
      "text/plain": [
       "   PETAL_L  PETAL_W        CLASS\n",
       "0      1.4      0.2  Iris-setosa\n",
       "1      1.3      0.2  Iris-setosa\n",
       "2      1.5      0.2  Iris-setosa\n",
       "3      1.4      0.2  Iris-setosa\n",
       "4      1.7      0.4  Iris-setosa"
      ]
     },
     "execution_count": 34,
     "metadata": {},
     "output_type": "execute_result"
    }
   ],
   "source": [
    "\n",
    "'''Now use Petals and Sepals separately'''\n",
    "\n",
    "petal = iris_main[['PETAL_L', 'PETAL_W', 'CLASS']]\n",
    "sepal = iris_main[['SEPAL_L', 'SEPAL_W', 'CLASS']]\n",
    "petal.head()\n"
   ]
  },
  {
   "cell_type": "code",
   "execution_count": 35,
   "metadata": {},
   "outputs": [
    {
     "name": "stdout",
     "output_type": "stream",
     "text": [
      "(104, 2)\n",
      "(104,)\n",
      "(45, 2)\n",
      "(45,)\n"
     ]
    }
   ],
   "source": [
    "train_p, test_p = train_test_split(petal, test_size =0.3, random_state=0) # petals\n",
    "train_x_p = train_p[['PETAL_W', 'PETAL_L']]\n",
    "train_y_p = train_p.CLASS\n",
    "test_x_p = test_p[['PETAL_W', 'PETAL_L']]\n",
    "test_y_p = test_p.CLASS\n",
    "\n",
    "train_s, test_s = train_test_split(sepal, test_size=.3, random_state = 0) # SEPAL\n",
    "train_x_s = train_s[['SEPAL_W', 'SEPAL_L']]\n",
    "train_y_s = train_s.CLASS\n",
    "test_x_s = test_s[['SEPAL_W', 'SEPAL_L']]\n",
    "test_y_s = test_s.CLASS\n",
    "\n",
    "\n",
    "print(train_x_p.shape)\n",
    "print(train_y_p.shape)\n",
    "print(test_x_p.shape)\n",
    "print(test_y_p.shape)"
   ]
  },
  {
   "cell_type": "code",
   "execution_count": 36,
   "metadata": {},
   "outputs": [
    {
     "name": "stdout",
     "output_type": "stream",
     "text": [
      "The accuracy of the SVM using Petals is: 0.9111111111111111\n",
      "The accuracy of the SVM using Sepal is: 0.7555555555555555\n"
     ]
    },
    {
     "name": "stderr",
     "output_type": "stream",
     "text": [
      "C:\\Users\\JAKEFREDRICH\\Anaconda3\\envs\\BaseClone\\lib\\site-packages\\sklearn\\svm\\base.py:196: FutureWarning: The default value of gamma will change from 'auto' to 'scale' in version 0.22 to account better for unscaled features. Set gamma explicitly to 'auto' or 'scale' to avoid this warning.\n",
      "  \"avoid this warning.\", FutureWarning)\n",
      "C:\\Users\\JAKEFREDRICH\\Anaconda3\\envs\\BaseClone\\lib\\site-packages\\sklearn\\svm\\base.py:196: FutureWarning: The default value of gamma will change from 'auto' to 'scale' in version 0.22 to account better for unscaled features. Set gamma explicitly to 'auto' or 'scale' to avoid this warning.\n",
      "  \"avoid this warning.\", FutureWarning)\n"
     ]
    }
   ],
   "source": [
    "'''SVM For Petal and Sepal'''\n",
    "\n",
    "model=svm.SVC()\n",
    "model.fit(train_x_p,train_y_p) \n",
    "prediction=model.predict(test_x_p) \n",
    "print('The accuracy of the SVM using Petals is:',metrics.accuracy_score(prediction,test_y_p))\n",
    "\n",
    "model=svm.SVC()\n",
    "model.fit(train_x_s,train_y_s) \n",
    "prediction=model.predict(test_x_s) \n",
    "print('The accuracy of the SVM using Sepal is:',metrics.accuracy_score(prediction,test_y_s))\n",
    "\n"
   ]
  },
  {
   "cell_type": "code",
   "execution_count": 37,
   "metadata": {},
   "outputs": [
    {
     "name": "stdout",
     "output_type": "stream",
     "text": [
      "The accuracy of the Logistic Regression using Petals is: 0.8888888888888888\n",
      "The accuracy of the Logistic Regression using Sepals is: 0.6666666666666666\n"
     ]
    },
    {
     "name": "stderr",
     "output_type": "stream",
     "text": [
      "C:\\Users\\JAKEFREDRICH\\Anaconda3\\envs\\BaseClone\\lib\\site-packages\\sklearn\\linear_model\\logistic.py:433: FutureWarning: Default solver will be changed to 'lbfgs' in 0.22. Specify a solver to silence this warning.\n",
      "  FutureWarning)\n",
      "C:\\Users\\JAKEFREDRICH\\Anaconda3\\envs\\BaseClone\\lib\\site-packages\\sklearn\\linear_model\\logistic.py:460: FutureWarning: Default multi_class will be changed to 'auto' in 0.22. Specify the multi_class option to silence this warning.\n",
      "  \"this warning.\", FutureWarning)\n",
      "C:\\Users\\JAKEFREDRICH\\Anaconda3\\envs\\BaseClone\\lib\\site-packages\\sklearn\\linear_model\\logistic.py:433: FutureWarning: Default solver will be changed to 'lbfgs' in 0.22. Specify a solver to silence this warning.\n",
      "  FutureWarning)\n",
      "C:\\Users\\JAKEFREDRICH\\Anaconda3\\envs\\BaseClone\\lib\\site-packages\\sklearn\\linear_model\\logistic.py:460: FutureWarning: Default multi_class will be changed to 'auto' in 0.22. Specify the multi_class option to silence this warning.\n",
      "  \"this warning.\", FutureWarning)\n"
     ]
    }
   ],
   "source": [
    "'''Logistic Regression for Petal and Sepal'''\n",
    "\n",
    "model = LogisticRegression()\n",
    "model.fit(train_x_p,train_y_p) \n",
    "prediction=model.predict(test_x_p) \n",
    "print('The accuracy of the Logistic Regression using Petals is:',metrics.accuracy_score(prediction,test_y_p))\n",
    "\n",
    "model.fit(train_x_s,train_y_s) \n",
    "prediction=model.predict(test_x_s) \n",
    "print('The accuracy of the Logistic Regression using Sepals is:',metrics.accuracy_score(prediction,test_y_s))"
   ]
  },
  {
   "cell_type": "code",
   "execution_count": 38,
   "metadata": {},
   "outputs": [
    {
     "name": "stdout",
     "output_type": "stream",
     "text": [
      "The accuracy of the Decision Tree using Petals is: 0.9111111111111111\n",
      "The accuracy of the Decision Tree using Sepals is: 0.7555555555555555\n"
     ]
    }
   ],
   "source": [
    "'''Decision Tree for Petal and Sepal'''\n",
    "model = DecisionTreeClassifier()\n",
    "model.fit(train_x_p, train_y_p)\n",
    "prediction=model.predict(test_x_p)\n",
    "print('The accuracy of the Decision Tree using Petals is:', metrics.accuracy_score(prediction,test_y_p))\n",
    "\n",
    "model.fit(train_x_s, train_y_s)\n",
    "prediction=model.predict(test_x_s)\n",
    "print('The accuracy of the Decision Tree using Sepals is:', metrics.accuracy_score(prediction,test_y_s)\n",
    ")\n"
   ]
  },
  {
   "cell_type": "code",
   "execution_count": 39,
   "metadata": {},
   "outputs": [
    {
     "name": "stdout",
     "output_type": "stream",
     "text": [
      "The accuracy of the KNN using Petals is: 0.9111111111111111\n",
      "The accuracy of the KNN using Sepals is: 0.7111111111111111\n"
     ]
    }
   ],
   "source": [
    "'''KNeighbors with Petal and Sepal'''\n",
    "\n",
    "model=KNeighborsClassifier(n_neighbors=3) \n",
    "model.fit(train_x_p,train_y_p) \n",
    "prediction=model.predict(test_x_p) \n",
    "print('The accuracy of the KNN using Petals is:',metrics.accuracy_score(prediction,test_y_p))\n",
    "\n",
    "model.fit(train_x_s,train_y_s) \n",
    "prediction=model.predict(test_x_s) \n",
    "print('The accuracy of the KNN using Sepals is:',metrics.accuracy_score(prediction,test_y_s))"
   ]
  },
  {
   "cell_type": "code",
   "execution_count": 40,
   "metadata": {},
   "outputs": [
    {
     "data": {
      "text/plain": [
       "([<matplotlib.axis.XTick at 0x21de9fcc4e0>,\n",
       "  <matplotlib.axis.XTick at 0x21de9fc9e10>,\n",
       "  <matplotlib.axis.XTick at 0x21de9fc9b38>,\n",
       "  <matplotlib.axis.XTick at 0x21de9fe71d0>,\n",
       "  <matplotlib.axis.XTick at 0x21de9fe7668>,\n",
       "  <matplotlib.axis.XTick at 0x21de9fe7b38>,\n",
       "  <matplotlib.axis.XTick at 0x21de9fe7278>,\n",
       "  <matplotlib.axis.XTick at 0x21de9fed278>,\n",
       "  <matplotlib.axis.XTick at 0x21de9fed748>,\n",
       "  <matplotlib.axis.XTick at 0x21de9fedc18>],\n",
       " <a list of 10 Text xticklabel objects>)"
      ]
     },
     "execution_count": 40,
     "metadata": {},
     "output_type": "execute_result"
    },
    {
     "data": {
      "image/png": "[encoded data removed]",
      "text/plain": [
       "<Figure size 432x288 with 1 Axes>"
      ]
     },
     "metadata": {
      "needs_background": "light"
     },
     "output_type": "display_data"
    }
   ],
   "source": [
    "'''Print Chart showing accuracy'''\n",
    "a_index=list(range(1,11))\n",
    "a=pd.Series()\n",
    "x=[1,2,3,4,5,6,7,8,9,10]\n",
    "for i in list(range(1,11)):\n",
    "    model=KNeighborsClassifier(n_neighbors=i) \n",
    "    model.fit(train_x_p,train_y_p)\n",
    "    prediction=model.predict(test_x_p)\n",
    "    a=a.append(pd.Series(metrics.accuracy_score(prediction,test_y_p)))\n",
    "plt.plot(a_index, a)\n",
    "plt.xticks(x)"
   ]
  },
  {
   "cell_type": "code",
   "execution_count": null,
   "metadata": {},
   "outputs": [],
   "source": []
  },
  {
   "cell_type": "code",
   "execution_count": null,
   "metadata": {},
   "outputs": [],
   "source": []
  }
 ],
 "metadata": {
  "kernelspec": {
   "display_name": "Python 3",
   "language": "python",
   "name": "python3"
  },
  "language_info": {
   "codemirror_mode": {
    "name": "ipython",
    "version": 3
   },
   "file_extension": ".py",
   "mimetype": "text/x-python",
   "name": "python",
   "nbconvert_exporter": "python",
   "pygments_lexer": "ipython3",
   "version": "3.7.3"
  },
  "widgets": {
   "application/vnd.jupyter.widget-state+json": {
    "state": {},
    "version_major": 2,
    "version_minor": 0
   }
  }
 },
 "nbformat": 4,
 "nbformat_minor": 2
}
