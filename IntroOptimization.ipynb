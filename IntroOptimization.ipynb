{
 "cells": [
  {
   "cell_type": "code",
   "execution_count": 15,
   "metadata": {},
   "outputs": [],
   "source": [
    "class Food(object):\n",
    "    def __init__(self, n, v, w):\n",
    "        self.name = n\n",
    "        self.value = v\n",
    "        self.calories = w\n",
    "        \n",
    "    def getValue(self):\n",
    "        return self.value\n",
    "    \n",
    "    def getCost(self):\n",
    "        return self.calories\n",
    "    \n",
    "    def density(self):\n",
    "        return self.getValue()/self.getCost()\n",
    "    \n",
    "    def __str__(self):\n",
    "        return self.name + ': <' + str(self.value)\\\n",
    "            + ', ' + str(self.calories) + '>'"
   ]
  },
  {
   "cell_type": "code",
   "execution_count": 16,
   "metadata": {},
   "outputs": [],
   "source": [
    "def buildMenu(names, values, calories):\n",
    "    # names, values, calories lists of same length.\n",
    "    # name a list of strings\n",
    "    # values and calories lists of numbers\n",
    "    # returns lists of Foods\n",
    "    menu =[]\n",
    "    for i in range(len(values)):\n",
    "        menu.append(Food(names[i], values[i], calories[i]))\n",
    "        \n",
    "    return menu\n",
    "    "
   ]
  },
  {
   "cell_type": "code",
   "execution_count": 17,
   "metadata": {},
   "outputs": [],
   "source": [
    "def greedy(items, maxCost, keyFunction):\n",
    "    # Assumes items a list, maxCost >= 0,\n",
    "    # keyFunction maps elements of items to numbers\n",
    "    # Creating a copy and using sorted is good practice\n",
    "    \n",
    "    itemsCopy = sorted(items, key = keyFunction, reverse = True)\n",
    "    result = []\n",
    "    totalValue, totalCost = 0.0, 0.0\n",
    "    \n",
    "    for i in range(len(itemsCopy)):\n",
    "        if (totalCost + itemsCopy[i].getCost()) <= maxCost:\n",
    "            result.append(itemsCopy[i])\n",
    "            totalCost += itemsCopy[i].getCost()\n",
    "            totalValue += itemsCopy[i].getValue()\n",
    "            \n",
    "    return(result, totalValue)"
   ]
  },
  {
   "cell_type": "code",
   "execution_count": 18,
   "metadata": {},
   "outputs": [],
   "source": [
    "def testGreedy(items, constraint, keyFunction):\n",
    "    taken, val = greedy(items, constraint, keyFunction)\n",
    "    print('Total value of items taken =', val)\n",
    "    for item in taken:\n",
    "        print('   ', item)\n",
    "        "
   ]
  },
  {
   "cell_type": "code",
   "execution_count": 21,
   "metadata": {},
   "outputs": [
    {
     "name": "stdout",
     "output_type": "stream",
     "text": [
      "Use greedy by value to allocate 1000 calories\n",
      "Total value of items taken = 424.0\n",
      "    burger: <100, 354>\n",
      "    pizza: <95, 258>\n",
      "    beer: <90, 154>\n",
      "    wine: <89, 123>\n",
      "    apple: <50, 95>\n",
      "\n",
      "Use greedy by cost to allocate 1000 calories\n",
      "Total value of items taken = 404.0\n",
      "    apple: <50, 95>\n",
      "    wine: <89, 123>\n",
      "    cola: <70, 150>\n",
      "    beer: <90, 154>\n",
      "    donut: <10, 195>\n",
      "    pizza: <95, 258>\n",
      "\n",
      "Use greedy by density to allocate 1000 calories\n",
      "Total value of items taken = 404.0\n",
      "    wine: <89, 123>\n",
      "    beer: <90, 154>\n",
      "    apple: <50, 95>\n",
      "    cola: <70, 150>\n",
      "    pizza: <95, 258>\n",
      "    donut: <10, 195>\n"
     ]
    }
   ],
   "source": [
    "def testGreedys(foods, maxUnits):\n",
    "    print('Use greedy by value to allocate', maxUnits, 'calories')\n",
    "    testGreedy(foods, maxUnits, Food.getValue)\n",
    "    print('\\nUse greedy by cost to allocate', maxUnits, 'calories')\n",
    "    testGreedy(foods, maxUnits, lambda x: 1/Food.getCost(x))\n",
    "    print('\\nUse greedy by density to allocate', maxUnits, 'calories')\n",
    "    testGreedy(foods, maxUnits, Food.density)\n",
    "\n",
    "names = ['wine', 'beer', 'pizza', 'burger', 'fries', 'cola', 'apple', 'donut', 'cake']\n",
    "values = [89, 90, 95, 100, 90, 70, 50, 10]\n",
    "calories = [123, 154, 258, 354, 365, 150, 95, 195]\n",
    "\n",
    "foods = buildMenu(names, values, calories)\n",
    "testGreedys(foods, 1000)"
   ]
  }
 ],
 "metadata": {
  "kernelspec": {
   "display_name": "Python 3",
   "language": "python",
   "name": "python3"
  },
  "language_info": {
   "codemirror_mode": {
    "name": "ipython",
    "version": 3
   },
   "file_extension": ".py",
   "mimetype": "text/x-python",
   "name": "python",
   "nbconvert_exporter": "python",
   "pygments_lexer": "ipython3",
   "version": "3.7.3"
  }
 },
 "nbformat": 4,
 "nbformat_minor": 2
}
